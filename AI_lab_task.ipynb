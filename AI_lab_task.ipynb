{
  "nbformat": 4,
  "nbformat_minor": 0,
  "metadata": {
    "colab": {
      "name": "AI lab task.ipynb",
      "provenance": [],
      "authorship_tag": "ABX9TyPqfczZk3ykZKnRvXRBI2UG",
      "include_colab_link": true
    },
    "kernelspec": {
      "name": "python3",
      "display_name": "Python 3"
    }
  },
  "cells": [
    {
      "cell_type": "markdown",
      "metadata": {
        "id": "view-in-github",
        "colab_type": "text"
      },
      "source": [
        "<a href=\"https://colab.research.google.com/github/rumman-25/AI-lab-task/blob/main/AI_lab_task.ipynb\" target=\"_parent\"><img src=\"https://colab.research.google.com/assets/colab-badge.svg\" alt=\"Open In Colab\"/></a>"
      ]
    },
    {
      "cell_type": "code",
      "metadata": {
        "id": "4uMfgZpq7WMR"
      },
      "source": [
        "def design():\r\n",
        "  print()\r\n",
        "  print(\"------------------------------------\")\r\n",
        "courses = []"
      ],
      "execution_count": 1,
      "outputs": []
    },
    {
      "cell_type": "code",
      "metadata": {
        "id": "cqXBVQLX8Z_9"
      },
      "source": [
        "def menu():\r\n",
        "  design()\r\n",
        "  print(\"Enter 1 for Add course\")\r\n",
        "  print(\"Enter 2 for Unenroll course\")\r\n",
        "  print(\"Enter 3 for Show All available course\")\r\n",
        "  choice = int(input(\"Enter your choice: \"))\r\n",
        "  return choice"
      ],
      "execution_count": 2,
      "outputs": []
    },
    {
      "cell_type": "code",
      "metadata": {
        "colab": {
          "base_uri": "https://localhost:8080/"
        },
        "id": "g3_ts5o37frP",
        "outputId": "cf6dfee7-b275-42ac-e957-33e8c53444d4"
      },
      "source": [
        "run = True\r\n",
        "while run:\r\n",
        "  choice = menu()\r\n",
        "  if choice == 1:\r\n",
        "    course = input(\"Enter course name: \")\r\n",
        "    courses.append(course)\r\n",
        "    print(\"Course Added!!!!\")\r\n",
        "  elif choice == 2:\r\n",
        "    course = input(\"Enter which course you want to unenroll!!!\")\r\n",
        "    if course in courses:\r\n",
        "      courses.remove(course)\r\n",
        "      print(\"Course Successfully removed!!!!\")\r\n",
        "  elif choice == 3:\r\n",
        "    for course in courses:\r\n",
        "      print(course)\r\n",
        "  else:\r\n",
        "    print(\"Programming is closing!!!\")\r\n",
        "    run = False\r\n",
        "\r\n",
        "\r\n"
      ],
      "execution_count": 5,
      "outputs": [
        {
          "output_type": "stream",
          "text": [
            "\n",
            "------------------------------------\n",
            "Enter 1 for Add course\n",
            "Enter 2 for Unenroll course\n",
            "Enter 3 for Show All available course\n",
            "Enter your choice: 1\n",
            "Enter course name: AI Lab\n",
            "Course Added!!!!\n",
            "\n",
            "------------------------------------\n",
            "Enter 1 for Add course\n",
            "Enter 2 for Unenroll course\n",
            "Enter 3 for Show All available course\n",
            "Enter your choice: 1\n",
            "Enter course name: AI Theory\n",
            "Course Added!!!!\n",
            "\n",
            "------------------------------------\n",
            "Enter 1 for Add course\n",
            "Enter 2 for Unenroll course\n",
            "Enter 3 for Show All available course\n",
            "Enter your choice: 3\n",
            "AI Lab\n",
            "AI Theory\n",
            "\n",
            "------------------------------------\n",
            "Enter 1 for Add course\n",
            "Enter 2 for Unenroll course\n",
            "Enter 3 for Show All available course\n",
            "Enter your choice: 2\n",
            "Enter which course you want to unenroll!!!AI Lab\n",
            "Course Successfully removed!!!!\n",
            "\n",
            "------------------------------------\n",
            "Enter 1 for Add course\n",
            "Enter 2 for Unenroll course\n",
            "Enter 3 for Show All available course\n",
            "Enter your choice: 7\n",
            "Programming is closing!!!\n"
          ],
          "name": "stdout"
        }
      ]
    },
    {
      "cell_type": "code",
      "metadata": {
        "id": "0lAx8thU7tpW"
      },
      "source": [
        ""
      ],
      "execution_count": 3,
      "outputs": []
    },
    {
      "cell_type": "code",
      "metadata": {
        "id": "NTvxNtUU8zDi"
      },
      "source": [
        ""
      ],
      "execution_count": 3,
      "outputs": []
    }
  ]
}